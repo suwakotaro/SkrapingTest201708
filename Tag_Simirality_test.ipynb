{
 "cells": [
  {
   "cell_type": "code",
   "execution_count": null,
   "metadata": {
    "collapsed": true
   },
   "outputs": [],
   "source": [
    "import requests\n",
    "from bs4 import BeautifulSoup\n",
    "import pandas as pd\n",
    "import MeCab\n",
    "from gensim import corpora \n",
    "from gensim.models import word2vec\n",
    "\n",
    "from gensim.models.word2vec import Word2Vec\n",
    "\n",
    "model_path = 'word2vec.gensim.model'\n",
    "model = Word2Vec.load(model_path)\n",
    "\n",
    "mecab = MeCab.Tagger(\"-Ochasen\")\n",
    "\n",
    "mecab.parse('')\n",
    "\n",
    "def dist_kyoten(name,html):\n",
    "    r=requests.get(html)\n",
    "    soup=BeautifulSoup(r.content,'html.parser')\n",
    "    l=[]\n",
    "    for i in soup.find_all():\n",
    "\n",
    "        if i.string is not None and i.name not in ('script'):\n",
    "\n",
    "            node = mecab.parseToNode(i.string)\n",
    "\n",
    "            while node:\n",
    "                if node.feature.split(u\",\")[0] == u\"名詞\" and node.feature.split(u\",\")[1] in (u\"固有名詞\", u\"一般\"):\n",
    "                    if node.surface in model.wv.vocab:\n",
    "                        l.append([name,i.name,node.surface,model.similarity(node.surface,'拠点')])\n",
    "                node = node.next\n",
    "    return l\n",
    "\n",
    "df1=pd.DataFrame(dist_kyoten('●●自動車','http://～'))\n",
    "\n",
    "df.columns = ['会社名', 'タグ', 'ワード','拠点類似度']\n",
    "df\n",
    "\n",
    "df.groupby('タグ')['拠点類似度'].max()"
   ]
  }
 ],
 "metadata": {
  "kernelspec": {
   "display_name": "Python 3",
   "language": "python",
   "name": "python3"
  },
  "language_info": {
   "codemirror_mode": {
    "name": "ipython",
    "version": 3
   },
   "file_extension": ".py",
   "mimetype": "text/x-python",
   "name": "python",
   "nbconvert_exporter": "python",
   "pygments_lexer": "ipython3",
   "version": "3.5.3"
  }
 },
 "nbformat": 4,
 "nbformat_minor": 2
}
