{
 "cells": [
  {
   "cell_type": "code",
   "execution_count": 6,
   "metadata": {
    "collapsed": true
   },
   "outputs": [],
   "source": [
    "from gensim.models.word2vec import Word2Vec\n",
    "\n",
    "model_path = 'word2vec.gensim.model'\n",
    "model = Word2Vec.load(model_path)\n"
   ]
  },
  {
   "cell_type": "code",
   "execution_count": 7,
   "metadata": {},
   "outputs": [
    {
     "name": "stdout",
     "output_type": "stream",
     "text": [
      "製鉄所 0.8550925850868225\n",
      "製紙工場 0.8219072818756104\n",
      "製造所 0.7961258292198181\n",
      "火力発電所 0.7942167520523071\n",
      "八幡製鐵所 0.7845867276191711\n",
      "住友重機械 0.7805944681167603\n",
      "重機械 0.7741537690162659\n",
      "高炉 0.7717602252960205\n",
      "炭坑 0.7711412310600281\n",
      "油槽所 0.7672723531723022\n",
      "本拠 0.7973371744155884\n",
      "活動拠点 0.7537720203399658\n",
      "中心地 0.705128014087677\n",
      "本拠地 0.7020659446716309\n",
      "拠点都市 0.6988593339920044\n",
      "貿易港 0.6823910474777222\n",
      "基地 0.6770350933074951\n",
      "外港 0.6754571199417114\n",
      "営業拠点 0.6677026748657227\n",
      "ハブ空港 0.6631416082382202\n",
      "日産 0.9504793882369995\n",
      "ホンダ 0.9341354370117188\n",
      "マツダ 0.925940990447998\n",
      "日産自動車 0.8643937706947327\n",
      "スバル 0.8606184720993042\n",
      "メルセデス・ベンツ 0.8592206239700317\n",
      "BMW 0.8555241823196411\n",
      "カワサキ 0.8530493974685669\n",
      "ヤナセ 0.8519903421401978\n",
      "ワークスチーム 0.8518772721290588\n",
      "トヨタ 0.9341355562210083\n",
      "BMW 0.9145523309707642\n",
      "ランチア 0.9107744693756104\n",
      "カワサキ 0.9074494242668152\n",
      "ワークスチーム 0.9068981409072876\n",
      "ワークス 0.9056191444396973\n",
      "マツダ 0.9051176309585571\n",
      "日産 0.9046005010604858\n",
      "ドゥカティ 0.9037518501281738\n",
      "スバル 0.9015212655067444\n"
     ]
    }
   ],
   "source": [
    "out=model.most_similar(positive=[u'工場'])\n",
    "for x in out:\n",
    "    print(x[0],x[1])\n",
    "    \n",
    "out=model.most_similar(positive=[u'拠点'])\n",
    "for x in out:\n",
    "    print(x[0],x[1])\n",
    "    \n",
    "out=model.most_similar(positive=[u'トヨタ'])\n",
    "for x in out:\n",
    "    print(x[0],x[1])\n",
    "\n",
    "out=model.most_similar(positive=[u'ホンダ'])\n",
    "for x in out:\n",
    "    print(x[0],x[1])"
   ]
  },
  {
   "cell_type": "code",
   "execution_count": null,
   "metadata": {
    "collapsed": true
   },
   "outputs": [],
   "source": []
  }
 ],
 "metadata": {
  "kernelspec": {
   "display_name": "Python 3",
   "language": "python",
   "name": "python3"
  },
  "language_info": {
   "codemirror_mode": {
    "name": "ipython",
    "version": 3
   },
   "file_extension": ".py",
   "mimetype": "text/x-python",
   "name": "python",
   "nbconvert_exporter": "python",
   "pygments_lexer": "ipython3",
   "version": "3.5.3"
  }
 },
 "nbformat": 4,
 "nbformat_minor": 2
}
